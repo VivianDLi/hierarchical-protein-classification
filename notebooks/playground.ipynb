{
 "cells": [
  {
   "cell_type": "code",
   "execution_count": 6,
   "metadata": {},
   "outputs": [],
   "source": [
    "import torch\n",
    "from torch_geometric.data import Data, HeteroData\n",
    "\n",
    "from copy import deepcopy"
   ]
  },
  {
   "cell_type": "markdown",
   "metadata": {},
   "source": [
    "## Test `HeteroData`"
   ]
  },
  {
   "cell_type": "code",
   "execution_count": null,
   "metadata": {},
   "outputs": [],
   "source": [
    "torch"
   ]
  },
  {
   "cell_type": "code",
   "execution_count": 2,
   "metadata": {},
   "outputs": [],
   "source": [
    "edge_index = torch.tensor([[0, 1, 1, 2],\n",
    "                           [1, 0, 2, 1]], dtype=torch.long)\n",
    "x = torch.tensor([[-1], [0], [1]], dtype=torch.float)\n",
    "\n",
    "data = Data(x=x, edge_index=edge_index)"
   ]
  },
  {
   "cell_type": "code",
   "execution_count": 3,
   "metadata": {},
   "outputs": [],
   "source": [
    "VIRTUAL_NODE_T: str = \"virtual\"\n",
    "REAL_NODE_T: str = \"real\"\n",
    "VIRTUAL_TO_REAL_EDGE_T: str = \"v_to_r\"\n",
    "REAL_TO_VIRTUAL_EDGE_T: str = \"r_to_v\"\n",
    "VIRTUAL_TO_VIRTUAL_EDGE_T: str = \"v_to_v\"\n",
    "REAL_TO_REAL_EDGE_T: str = \"r_to_r\""
   ]
  },
  {
   "cell_type": "code",
   "execution_count": 13,
   "metadata": {},
   "outputs": [],
   "source": [
    "def convert_to_heterodata(data: Data) -> HeteroData:\n",
    "    edge_type = (REAL_NODE_T, REAL_TO_REAL_EDGE_T, REAL_NODE_T)\n",
    "\n",
    "    mapping = {REAL_NODE_T: {}, edge_type: {}}\n",
    "\n",
    "    # Add node attributes\n",
    "    if hasattr(data, \"x\"):\n",
    "        mapping[REAL_NODE_T][\"x\"] = deepcopy(data.x)\n",
    "    \n",
    "    if hasattr(data, \"pos\"):\n",
    "        mapping[REAL_NODE_T][\"pos\"] = deepcopy(data.pos)\n",
    "\n",
    "    if hasattr(data, \"y\") and data.y:\n",
    "        if data.y is None or data.y.shape[0] == 1:\n",
    "            mapping[REAL_NODE_T][\"y\"] = None\n",
    "        elif data.y.shape[0] == data.x.shape[0]:\n",
    "            mapping[REAL_NODE_T][\"y\"] = deepcopy(data.y)\n",
    "        else:\n",
    "            raise ValueError(f\"Invalid data.y: {data.y}\")\n",
    "    \n",
    "    # Add edge attributes\n",
    "    if hasattr(data, \"edge_index\"):\n",
    "        mapping[edge_type][\"edge_index\"] = deepcopy(data.edge_index)\n",
    "    \n",
    "    if hasattr(data, \"edge_attr\"):\n",
    "        mapping[edge_type][\"edge_attr\"] = deepcopy(data.edge_attr)\n",
    "    \n",
    "\n",
    "    return HeteroData(mapping)"
   ]
  },
  {
   "cell_type": "code",
   "execution_count": 14,
   "metadata": {},
   "outputs": [],
   "source": [
    "test_hetero = convert_to_heterodata(data)\n"
   ]
  },
  {
   "cell_type": "code",
   "execution_count": 15,
   "metadata": {},
   "outputs": [
    {
     "data": {
      "text/plain": [
       "['real']"
      ]
     },
     "execution_count": 15,
     "metadata": {},
     "output_type": "execute_result"
    }
   ],
   "source": [
    "test_hetero.node_types"
   ]
  },
  {
   "cell_type": "code",
   "execution_count": 16,
   "metadata": {},
   "outputs": [
    {
     "data": {
      "text/plain": [
       "HeteroData(\n",
       "  real={ x=[3, 1] },\n",
       "  (real, r_to_r, real)={ edge_index=[2, 4] }\n",
       ")"
      ]
     },
     "execution_count": 16,
     "metadata": {},
     "output_type": "execute_result"
    }
   ],
   "source": [
    "test_hetero"
   ]
  },
  {
   "cell_type": "markdown",
   "metadata": {},
   "source": [
    "## `torch.cartesian_prod`"
   ]
  },
  {
   "cell_type": "code",
   "execution_count": 18,
   "metadata": {},
   "outputs": [],
   "source": [
    "X = torch.tensor([1, 2, 3, 4], dtype=torch.long)\n",
    "Y = torch.tensor([-1, -2, -3], dtype=torch.long)"
   ]
  },
  {
   "cell_type": "code",
   "execution_count": 19,
   "metadata": {},
   "outputs": [
    {
     "data": {
      "text/plain": [
       "tensor([[ 1, -1],\n",
       "        [ 1, -2],\n",
       "        [ 1, -3],\n",
       "        [ 2, -1],\n",
       "        [ 2, -2],\n",
       "        [ 2, -3],\n",
       "        [ 3, -1],\n",
       "        [ 3, -2],\n",
       "        [ 3, -3],\n",
       "        [ 4, -1],\n",
       "        [ 4, -2],\n",
       "        [ 4, -3]])"
      ]
     },
     "execution_count": 19,
     "metadata": {},
     "output_type": "execute_result"
    }
   ],
   "source": [
    "torch.cartesian_prod(X, Y)"
   ]
  },
  {
   "cell_type": "code",
   "execution_count": 20,
   "metadata": {},
   "outputs": [
    {
     "name": "stderr",
     "output_type": "stream",
     "text": [
      "/tmp/ipykernel_467776/1549641488.py:1: UserWarning: torch.range is deprecated and will be removed in a future release because its behavior is inconsistent with Python's range builtin. Instead, use torch.arange, which produces values in [start, end).\n",
      "  torch.range(0, 10)\n"
     ]
    },
    {
     "data": {
      "text/plain": [
       "tensor([ 0.,  1.,  2.,  3.,  4.,  5.,  6.,  7.,  8.,  9., 10.])"
      ]
     },
     "execution_count": 20,
     "metadata": {},
     "output_type": "execute_result"
    }
   ],
   "source": [
    "torch.range(0, 10)"
   ]
  },
  {
   "cell_type": "code",
   "execution_count": 21,
   "metadata": {},
   "outputs": [
    {
     "data": {
      "text/plain": [
       "tensor([0, 1, 2, 3, 4, 5, 6, 7, 8, 9])"
      ]
     },
     "execution_count": 21,
     "metadata": {},
     "output_type": "execute_result"
    }
   ],
   "source": [
    "torch.arange(0, 10)"
   ]
  },
  {
   "cell_type": "code",
   "execution_count": 24,
   "metadata": {},
   "outputs": [
    {
     "data": {
      "text/plain": [
       "tensor([], size=(0, 2))"
      ]
     },
     "execution_count": 24,
     "metadata": {},
     "output_type": "execute_result"
    }
   ],
   "source": [
    "torch.cartesian_prod(torch.tensor([]), torch.tensor([]))\n"
   ]
  },
  {
   "cell_type": "code",
   "execution_count": 25,
   "metadata": {},
   "outputs": [
    {
     "data": {
      "text/plain": [
       "tensor([], dtype=torch.int64)"
      ]
     },
     "execution_count": 25,
     "metadata": {},
     "output_type": "execute_result"
    }
   ],
   "source": [
    "torch.arange(0)"
   ]
  }
 ],
 "metadata": {
  "kernelspec": {
   "display_name": "pyenv",
   "language": "python",
   "name": "python3"
  },
  "language_info": {
   "codemirror_mode": {
    "name": "ipython",
    "version": 3
   },
   "file_extension": ".py",
   "mimetype": "text/x-python",
   "name": "python",
   "nbconvert_exporter": "python",
   "pygments_lexer": "ipython3",
   "version": "3.9.6"
  }
 },
 "nbformat": 4,
 "nbformat_minor": 2
}
